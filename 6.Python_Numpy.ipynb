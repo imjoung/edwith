{
 "cells": [
  {
   "cell_type": "markdown",
   "metadata": {},
   "source": [
    "## Python : Numpy\n"
   ]
  },
  {
   "cell_type": "markdown",
   "metadata": {},
   "source": [
    "#### 1. Numpy: type, dtype, shape, dimension,size\n",
    "- Data types are the same in an arrary.\n",
    "- Rank : the (linearly independent)number of variables in a matrix."
   ]
  },
  {
   "cell_type": "code",
   "execution_count": 2,
   "metadata": {},
   "outputs": [
    {
     "name": "stdout",
     "output_type": "stream",
     "text": [
      "[ 7  8  9 10 11]\n",
      "objest type: <class 'numpy.ndarray'>\n",
      "   data type: int32\n",
      "       shape (5,)\n",
      "  dimension: 1\n",
      " array size:5\n",
      "(1, 5)\n"
     ]
    }
   ],
   "source": [
    "# Create a rank one array with the array function\n",
    "import numpy as np\n",
    "a = np.array([7,8,9,10,11])\n",
    "print(f'{a}\\n{\"objest type:\":>12} {type(a)}\\n {\"data type:\":>12} {a.dtype}\\n{\"shape\":>12} \\\n",
    "{a.shape}\\n{\"dimension:\":>12} {a.ndim}\\n{\"array size:\":>12}{a.size}')\n",
    "a1 = np.array([a])\n",
    "print(a1.shape)"
   ]
  },
  {
   "cell_type": "code",
   "execution_count": 12,
   "metadata": {},
   "outputs": [
    {
     "name": "stdout",
     "output_type": "stream",
     "text": [
      "[[ 1.   2.   3.   4.   5. ]\n",
      " [ 8.   9.  10.  11.  12.2]]\n",
      "objest type: <class 'numpy.ndarray'>\n",
      "   data type: float64\n",
      "       shape (2, 5)\n",
      "  dimension: 2\n",
      " array size:10\n"
     ]
    }
   ],
   "source": [
    "# Create a rank two array : 2 dimensional array\n",
    "b=np.array([[1.0,2,3,4,5],[8,9,10,11,12.2]])\n",
    "print(f'{b}\\n{\"objest type:\":>12} {type(b)}\\n {\"data type:\":>12} {b.dtype}\\n{\"shape\":>12} \\\n",
    "{b.shape}\\n{\"dimension:\":>12} {b.ndim}\\n{\"array size:\":>12}{b.size}')"
   ]
  },
  {
   "cell_type": "code",
   "execution_count": 13,
   "metadata": {},
   "outputs": [
    {
     "name": "stdout",
     "output_type": "stream",
     "text": [
      "[[[ 1  2  3  4  5]\n",
      "  [ 8  9 10 11 12]]\n",
      "\n",
      " [[ 4  5  6  7  8]\n",
      "  [10 11 12 13 14]]]\n",
      "objest type: <class 'numpy.ndarray'>\n",
      "   data type: int32\n",
      "       shape (2, 2, 5)\n",
      "  dimension: 3\n",
      " array size:20\n"
     ]
    }
   ],
   "source": [
    "# Create a rank two array : 3 dimensional array\n",
    "c=np.array([[[1,2,3,4,5],[8,9,10,11,12]],[[4,5,6,7,8],[10,11,12,13,14]]])\n",
    "print(f'{c}\\n{\"objest type:\":>12}{type(c)} \\n {\"data type:\":>12}{c.dtype} \\n {\"shape\":>12} \\\n",
    "{c.shape}\\n {\"dimension:\":>12}{c.ndim} \\n{\"array size:\":>12}{c.size}')"
   ]
  },
  {
   "cell_type": "code",
   "execution_count": 14,
   "metadata": {},
   "outputs": [
    {
     "name": "stdout",
     "output_type": "stream",
     "text": [
      "[[[ 1  2  3  4  5]\n",
      "  [ 8  9 10 11 12]]]\n",
      " object type:<class 'numpy.ndarray'> \n",
      "   data type:int32 \n",
      "       shape: (1, 2, 5) \n",
      "   dimension:3 \n",
      "  array size:10\n"
     ]
    }
   ],
   "source": [
    "#an application 1\n",
    "ac1=np.array([[[1,2,3,4,5],[8,9,10,11,12]]])\n",
    "print(f'{ac1}\\n {\"object type:\":>12}{type(ac1)} \\n {\"data type:\":>12}{ac1.dtype} \\n {\"shape:\":>12} \\\n",
    "{ac1.shape} \\n {\"dimension:\":>12}{ac1.ndim} \\n {\"array size:\":>12}{ac1.size}')"
   ]
  },
  {
   "cell_type": "code",
   "execution_count": 16,
   "metadata": {},
   "outputs": [
    {
     "name": "stdout",
     "output_type": "stream",
     "text": [
      "[[[1 2 3 4 5]]]\n",
      " object type:<class 'numpy.ndarray'> \n",
      "   data type:int32 \n",
      "       shape: (1, 1, 5) \n",
      "   dimension:3 \n",
      "  array size:5\n"
     ]
    }
   ],
   "source": [
    "#an application 2\n",
    "ac2=np.array([[[1,2,3,4,5]]])\n",
    "print(f'{ac2}\\n {\"object type:\":>12}{type(ac2)} \\n {\"data type:\":>12}{ac2.dtype} \\n {\"shape:\":>12} \\\n",
    "{ac2.shape} \\n {\"dimension:\":>12}{ac2.ndim} \\n {\"array size:\":>12}{ac2.size}')"
   ]
  },
  {
   "cell_type": "markdown",
   "metadata": {},
   "source": [
    "#### 2. Numpy : special arrays and indexing"
   ]
  },
  {
   "cell_type": "code",
   "execution_count": 20,
   "metadata": {},
   "outputs": [
    {
     "name": "stdout",
     "output_type": "stream",
     "text": [
      "[[0. 0. 0.]\n",
      " [0. 0. 0.]]\n",
      "\n",
      "[[1 1 1 1]\n",
      " [1 1 1 1]]\n",
      "\n",
      "[[7 7 7 7 7]\n",
      " [7 7 7 7 7]]\n",
      "\n",
      "[[1. 0. 0.]\n",
      " [0. 1. 0.]\n",
      " [0. 0. 1.]]\n"
     ]
    }
   ],
   "source": [
    "#filling arrays with specific values : all dtype = float64 except for 'full'\n",
    "a_zeros = np.zeros((2,3))\n",
    "print(a_zeros)\n",
    "print()\n",
    "a_ones = np.ones((2,4),dtype=int)\n",
    "print(a_ones)\n",
    "print()\n",
    "a_full = np.full((2,5),7)\n",
    "print(a_full)\n",
    "print()\n",
    "print(np.eye(3))\n",
    "#정방향 "
   ]
  },
  {
   "cell_type": "code",
   "execution_count": 21,
   "metadata": {},
   "outputs": [
    {
     "name": "stdout",
     "output_type": "stream",
     "text": [
      "[[[0.79103153 0.71787978 0.89189949 0.15555884]\n",
      "  [0.54701562 0.66318814 0.56397636 0.65069503]\n",
      "  [0.78994592 0.08677598 0.74034228 0.98775283]]\n",
      "\n",
      " [[0.40682154 0.85159721 0.73544934 0.11553957]\n",
      "  [0.22749814 0.66761632 0.45052008 0.63720474]\n",
      "  [0.08494304 0.37877052 0.11821934 0.52789391]]]\n",
      "float64\n"
     ]
    }
   ],
   "source": [
    "#fitting an array with random floats : in the half-open interval[0.0,1.0].\n",
    "a_ran = np.random.random((2,3,4))\n",
    "print(f'{a_ran}\\n{a_ran.dtype}')"
   ]
  },
  {
   "cell_type": "code",
   "execution_count": 22,
   "metadata": {},
   "outputs": [
    {
     "name": "stdout",
     "output_type": "stream",
     "text": [
      "[[[ 1  2  3  4  5]\n",
      "  [ 8  9 10 11 12]]\n",
      "\n",
      " [[ 4  5  6  7  8]\n",
      "  [10 11 12 13 14]]]\n",
      "8\n",
      "5\n"
     ]
    }
   ],
   "source": [
    "#array indexing\n",
    "print(c)\n",
    "print(c[1,0,4])\n",
    "print(c[0,0,4])"
   ]
  },
  {
   "cell_type": "markdown",
   "metadata": {},
   "source": [
    "#### 3.Numpy: flattening and making arrays with arange function"
   ]
  },
  {
   "cell_type": "code",
   "execution_count": 24,
   "metadata": {},
   "outputs": [
    {
     "name": "stdout",
     "output_type": "stream",
     "text": [
      "[[[ 1  2  3  4  5]\n",
      "  [ 8  9 10 11 12]]\n",
      "\n",
      " [[ 4  5  6  7  8]\n",
      "  [10 11 12 13 14]]] \n",
      "\n",
      "[1, 2, 3, 4, 5, 8, 9, 10, 11, 12, 4, 5, 6, 7, 8, 10, 11, 12, 13, 14]\n",
      "[ 1  2  3  4  5  8  9 10 11 12  4  5  6  7  8 10 11 12 13 14]\n",
      "\n",
      "[ 1  2  3  4  5  8  9 10 11 12  4  5  6  7  8 10 11 12 13 14]\n"
     ]
    }
   ],
   "source": [
    "#flattening the c array in a row using for loop.\n",
    "print(c,'\\n')\n",
    "l = []\n",
    "for i in c:\n",
    "    for j in i:\n",
    "        for k in j:\n",
    "            l.append(k)\n",
    "print(f'{l}\\n{np.array(l)}\\n')\n",
    "\n",
    "#flattening : 4차원 배열을 1차원으로 바꾸는 것\n",
    "print(np.array(c.flat))"
   ]
  },
  {
   "cell_type": "code",
   "execution_count": 25,
   "metadata": {},
   "outputs": [
    {
     "name": "stdout",
     "output_type": "stream",
     "text": [
      "[ 0  1  2  3  4  5  6  7  8  9 10 11 12 13 14 15 16 17 18 19 20]\n",
      "<class 'numpy.ndarray'>\n",
      "[[[ 0  1  2  3  4  5  6]\n",
      "  [ 7  8  9 10 11 12 13]\n",
      "  [14 15 16 17 18 19 20]]]\n"
     ]
    }
   ],
   "source": [
    "#Making an array with arange with a same interval\n",
    "g = np.arange(21)\n",
    "print(f'{g}\\n{type(g)}')\n",
    "print(g.reshape(1,3,7))"
   ]
  },
  {
   "cell_type": "code",
   "execution_count": 26,
   "metadata": {},
   "outputs": [
    {
     "name": "stdout",
     "output_type": "stream",
     "text": [
      "[ 5  7  9 11 13 15 17 19]\n",
      "[[ 1  2  3  4  5  6  7  8  9 10]\n",
      " [11 12 13 14 15 16 17 18 19 20]]\n"
     ]
    }
   ],
   "source": [
    "h = np.arange(5,21,2)\n",
    "print(h)\n",
    "print(np.arange(1,21).reshape(2,10))"
   ]
  },
  {
   "cell_type": "code",
   "execution_count": 27,
   "metadata": {},
   "outputs": [
    {
     "name": "stdout",
     "output_type": "stream",
     "text": [
      "[0.  0.1 0.2 0.3 0.4 0.5 0.6 0.7 0.8 0.9 1. ]\n",
      "(11,)\n",
      "11\n"
     ]
    }
   ],
   "source": [
    "#Creating an array of equal space within a range\n",
    "a_ss = np.linspace(0,1,11)\n",
    "print(f'{a_ss}\\n{a_ss.shape}\\n{a_ss.size}')"
   ]
  },
  {
   "cell_type": "markdown",
   "metadata": {},
   "source": [
    "#### 4.Numpy:Array operations\n",
    "- Operations on all elements of arrays"
   ]
  },
  {
   "cell_type": "code",
   "execution_count": 29,
   "metadata": {},
   "outputs": [
    {
     "name": "stdout",
     "output_type": "stream",
     "text": [
      "(3, 2) (3, 2)\n",
      "[[ 4  6]\n",
      " [ 8 10]\n",
      " [12 14]]\n",
      "[[ 2  4]\n",
      " [ 6  8]\n",
      " [10 12]]\n"
     ]
    }
   ],
   "source": [
    "#element-wise operations\n",
    "xa = np.array([[1,2],[3,4],[5,6]])\n",
    "xb = np.array([[3,4],[5,6],[7,8]])\n",
    "print(xa.shape, xb.shape)\n",
    "print(f'{xa+xb}\\n{xa*2}')"
   ]
  },
  {
   "cell_type": "code",
   "execution_count": 30,
   "metadata": {},
   "outputs": [
    {
     "name": "stdout",
     "output_type": "stream",
     "text": [
      "[[ 4  6]\n",
      " [ 8 10]\n",
      " [12 14]]\n",
      "[[-2 -2]\n",
      " [-2 -2]\n",
      " [-2 -2]]\n",
      "[[ 3  8]\n",
      " [15 24]\n",
      " [35 48]]\n",
      "[[1.         1.41421356]\n",
      " [1.73205081 2.        ]\n",
      " [2.23606798 2.44948974]]\n"
     ]
    }
   ],
   "source": [
    "#element-wise operations\n",
    "print(np.add(xa,xb))\n",
    "print(np.subtract(xa,xb))\n",
    "print(np.multiply(xa,xb))\n",
    "print(np.sqrt(xa))"
   ]
  },
  {
   "cell_type": "code",
   "execution_count": 32,
   "metadata": {},
   "outputs": [
    {
     "name": "stdout",
     "output_type": "stream",
     "text": [
      "[[1.]\n",
      " [1.]] (2, 1) 2\n",
      "[[ 3.]\n",
      " [ 7.]\n",
      " [11.]]\n",
      "[[ 7.]\n",
      " [11.]\n",
      " [15.]]\n"
     ]
    }
   ],
   "source": [
    "#inner product of matrix\n",
    "xc = np.ones((2,1))\n",
    "print(xc,xc.shape,xc.ndim)\n",
    "print(xa.dot(xc))\n",
    "print(np.dot(xb,xc))"
   ]
  },
  {
   "cell_type": "code",
   "execution_count": 33,
   "metadata": {},
   "outputs": [
    {
     "name": "stdout",
     "output_type": "stream",
     "text": [
      "[[1 2]\n",
      " [1 2]]\n",
      "[[ 3  6]\n",
      " [ 7 14]\n",
      " [11 22]]\n",
      "[[ 7 14]\n",
      " [11 22]\n",
      " [15 30]]\n"
     ]
    }
   ],
   "source": [
    "#inner product of matrix\n",
    "xd = np.array([[1,2],[1,2]])\n",
    "print(xd)\n",
    "\n",
    "print(np.dot(xa,xd))\n",
    "print(np.dot(xb,xd))"
   ]
  },
  {
   "cell_type": "code",
   "execution_count": 34,
   "metadata": {},
   "outputs": [
    {
     "name": "stdout",
     "output_type": "stream",
     "text": [
      "[[1 3 5]\n",
      " [2 4 6]]\n",
      "[[ 6  7]\n",
      " [ 8  9]\n",
      " [10 11]]\n",
      "[[3 4]\n",
      " [5 6]\n",
      " [7 8]]\n",
      "[[ 6  7]\n",
      " [ 8  9]\n",
      " [10 11]]\n"
     ]
    }
   ],
   "source": [
    "# transposing and broadcasting\n",
    "print(xa.T)\n",
    "print(xb+3)\n",
    "print(xb)\n",
    "xb+=3\n",
    "print(xb)\n"
   ]
  },
  {
   "cell_type": "markdown",
   "metadata": {},
   "source": [
    "#### 5.Numpy : Broadcasting\n",
    "- Arithmetic operation between different shaped arrays"
   ]
  },
  {
   "cell_type": "code",
   "execution_count": 3,
   "metadata": {},
   "outputs": [
    {
     "name": "stdout",
     "output_type": "stream",
     "text": [
      "[[1 2 3]\n",
      " [4 5 6]\n",
      " [7 8 9]]\n",
      "[[1.]\n",
      " [1.]\n",
      " [1.]]\n",
      "[[2 2 2]]\n",
      "[[ 3  4  5]\n",
      " [ 6  7  8]\n",
      " [ 9 10 11]]\n"
     ]
    }
   ],
   "source": [
    "ya = np.arange(1,10).reshape(3,3)\n",
    "print(ya)\n",
    "\n",
    "yv1 = np.ones((3,1))\n",
    "print(yv1)\n",
    "\n",
    "yv2 = np.full((1,3),2)\n",
    "print(yv2)\n",
    "\n",
    "yc = ya + yv2\n",
    "print(yc)"
   ]
  },
  {
   "cell_type": "markdown",
   "metadata": {},
   "source": [
    "#### 6. Numpy:Summary Statistcs"
   ]
  },
  {
   "cell_type": "code",
   "execution_count": 5,
   "metadata": {},
   "outputs": [
    {
     "name": "stdout",
     "output_type": "stream",
     "text": [
      "63 7.0 3 6.666666666666667 2.581988897471611\n",
      "8 0\n",
      "[6. 7. 8.] [ 4.  7. 10.]\n"
     ]
    }
   ],
   "source": [
    "#Uses all elements in calculations\n",
    "print(yc.sum(),yc.mean(),yc.min(),yc.var(),yc.std())\n",
    "print(yc.argmax(),yc.argmin())#return index\n",
    "print(yc.mean(axis=0),yc.mean(axis=1))"
   ]
  },
  {
   "cell_type": "markdown",
   "metadata": {},
   "source": [
    "#### 7.Numpy:Slicing,Flatten,and Stacking"
   ]
  },
  {
   "cell_type": "code",
   "execution_count": 6,
   "metadata": {},
   "outputs": [
    {
     "name": "stdout",
     "output_type": "stream",
     "text": [
      "[[ 0  1  2  3  4  5  6]\n",
      " [ 7  8  9 10 11 12 13]\n",
      " [14 15 16 17 18 19 20]]\n",
      "[0 1 2 3 4 5 6] [0 1 2 3]\n",
      "[[ 0  1  2  3  4  5  6]\n",
      " [ 7  8  9 10 11 12 13]]\n",
      "[[0 1 2]\n",
      " [7 8 9]]\n"
     ]
    }
   ],
   "source": [
    "karray=np.arange(21).reshape(3,7)\n",
    "print(karray)\n",
    "\n",
    "print(karray[0], karray[0,:4])\n",
    "print(karray[:2])\n",
    "print(karray[:2,:3])"
   ]
  },
  {
   "cell_type": "code",
   "execution_count": 8,
   "metadata": {},
   "outputs": [
    {
     "name": "stdout",
     "output_type": "stream",
     "text": [
      "[[ 0  1  2  3  4  5  6]\n",
      " [ 7  8  9 10 11 12 13]\n",
      " [14 15 16 17 18 19 20]]\n",
      "[[ 0  1  2  3  4  5  6]\n",
      " [14 15 16 17 18 19 20]]\n",
      "[[ 1  5]\n",
      " [ 8 12]\n",
      " [15 19]]\n",
      "[[ 1  2  3  4]\n",
      " [ 8  9 10 11]\n",
      " [15 16 17 18]]\n"
     ]
    }
   ],
   "source": [
    "karray=np.arange(21).reshape(3,7)\n",
    "print(karray)\n",
    "print(karray[[0,2]])\n",
    "print(karray[:,[1,5]])\n",
    "print(karray[:,1:5])"
   ]
  },
  {
   "cell_type": "code",
   "execution_count": 9,
   "metadata": {},
   "outputs": [
    {
     "name": "stdout",
     "output_type": "stream",
     "text": [
      "[[ 0  1  2  3  4  5  6]\n",
      " [ 7  8  9 10 11 12 13]\n",
      " [14 15 16 17 18 19 20]]\n",
      "[ 0  1  2  3  4  5  6  7  8  9 10 11 12 13 14 15 16 17 18 19 20] (21,)\n",
      "[ 0  1  2  3  4  5  6  7  8  9 10 11 12 13 14 15 16 17 18 19 20]\n",
      "[[ 0  1  2  3  4  5  6  7  8  9 10 11 12 13 14 15 16 17 18 19 20]] (1, 21)\n",
      "[[ 0  1  2  3  4  5  6]\n",
      " [ 7  8  9 10 11 12 13]\n",
      " [14 15 16 17 18 19 20]] (3, 7)\n"
     ]
    }
   ],
   "source": [
    "karray=np.arange(21).reshape(3,7)\n",
    "print(karray)\n",
    "\n",
    "fkarray=karray.flatten()\n",
    "print(fkarray,fkarray.shape)\n",
    "\n",
    "fkarray1=np.array(karray.flat)\n",
    "print(fkarray1)\n",
    "\n",
    "rfkarray=karray.reshape(1,21)\n",
    "print(rfkarray,rfkarray.shape)\n",
    "\n",
    "rfkarray.resize(3,7)\n",
    "print(rfkarray,rfkarray.shape)"
   ]
  },
  {
   "cell_type": "code",
   "execution_count": 10,
   "metadata": {},
   "outputs": [
    {
     "name": "stdout",
     "output_type": "stream",
     "text": [
      "[[ 0  1  2  3  4  5]\n",
      " [ 7  8  9 10 11 12]\n",
      " [14 15 16 17 18 19]]\n",
      "[[ 0  1  2]\n",
      " [ 7  8  9]\n",
      " [14 15 16]\n",
      " [ 3  4  5]\n",
      " [10 11 12]\n",
      " [17 18 19]]\n"
     ]
    }
   ],
   "source": [
    "#staking\n",
    "karray1 = karray[:,:3]\n",
    "karray2 = karray[:,3:6]\n",
    "karrayh = np.hstack([karray1, karray2])\n",
    "print(karrayh)\n",
    "\n",
    "karrayv = np.vstack([karray1, karray2])\n",
    "print(karrayv)"
   ]
  },
  {
   "cell_type": "code",
   "execution_count": null,
   "metadata": {},
   "outputs": [],
   "source": []
  }
 ],
 "metadata": {
  "kernelspec": {
   "display_name": "Python 3",
   "language": "python",
   "name": "python3"
  },
  "language_info": {
   "codemirror_mode": {
    "name": "ipython",
    "version": 3
   },
   "file_extension": ".py",
   "mimetype": "text/x-python",
   "name": "python",
   "nbconvert_exporter": "python",
   "pygments_lexer": "ipython3",
   "version": "3.6.5"
  }
 },
 "nbformat": 4,
 "nbformat_minor": 5
}
