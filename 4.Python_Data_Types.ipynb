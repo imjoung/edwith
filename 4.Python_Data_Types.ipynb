{
 "cells": [
  {
   "cell_type": "markdown",
   "metadata": {},
   "source": [
    "## Python : List and Tuples\n",
    "- '__List, tuples and strings are sequences__'(consecutive data) in Python Standard\n",
    "- Arguments(elements) are consecutive and have __index starting from zero__\n",
    "#### 1.Lists: concept, indexing, and slicing\n",
    "\n",
    "\n",
    "- Lists __typically store homogeneous data__ in order.\n",
    "- However, they can store __heterogeneous data and mutable__\n",
    "- List are denoted by square bracket [ ], in which data items\n",
    "- A list's index for elements starts __from zero__"
   ]
  },
  {
   "cell_type": "code",
   "execution_count": 1,
   "metadata": {},
   "outputs": [
    {
     "name": "stdout",
     "output_type": "stream",
     "text": [
      "<class 'list'> [1, 2, 3, 4, 5, 6, 11, 'a', 'b']\n"
     ]
    }
   ],
   "source": [
    "list1=[1,2,3,4,5,6,11,'a','b']\n",
    "print(type(list1),list1)"
   ]
  },
  {
   "cell_type": "code",
   "execution_count": 3,
   "metadata": {},
   "outputs": [
    {
     "name": "stdout",
     "output_type": "stream",
     "text": [
      "2 a\n",
      "[3, 4, 5]\n",
      "[1, 2, 3, 4, 5, 6, 11]\n",
      "[5, 6, 11, 'a', 'b']\n",
      "b\n",
      "[6, 11, 'a', 'b']\n",
      "[4, 5, 6, 11, 'a', 'b']\n"
     ]
    }
   ],
   "source": [
    "print(list1[1],list1[7])\n",
    "print(list1[2:5])\n",
    "print(list1[:7])\n",
    "print(list1[4:])\n",
    "print(list1[-1])\n",
    "print(list1[-4:])\n",
    "print(list1[1+2:])"
   ]
  },
  {
   "cell_type": "code",
   "execution_count": 4,
   "metadata": {},
   "outputs": [
    {
     "data": {
      "text/plain": [
       "9"
      ]
     },
     "execution_count": 4,
     "metadata": {},
     "output_type": "execute_result"
    }
   ],
   "source": [
    "len(list1)"
   ]
  },
  {
   "cell_type": "code",
   "execution_count": 5,
   "metadata": {},
   "outputs": [
    {
     "data": {
      "text/plain": [
       "[1, 2, 3, 4, 5, 6, 'c', 'a', 'b']"
      ]
     },
     "execution_count": 5,
     "metadata": {},
     "output_type": "execute_result"
    }
   ],
   "source": [
    "list1[6]='c'\n",
    "list1"
   ]
  },
  {
   "cell_type": "code",
   "execution_count": 8,
   "metadata": {},
   "outputs": [
    {
     "name": "stdout",
     "output_type": "stream",
     "text": [
      "[11, 12, 13]\n",
      "['P', 'y', 't', 'h', 'o', 'n', ' ', 'K', 'o', 'o', 'c'] 11\n",
      "['P', 'y', 't', 'h', 'o', 'n', ' ', 'K', 'o', 'o', 'c', 'M', 'o', 'o', 'c'] 15\n"
     ]
    }
   ],
   "source": [
    "list2=[]\n",
    "for item in range(11,14,1):\n",
    "    list2+=[item]\n",
    "    #list2.append(item)\n",
    "print(list2)\n",
    "\n",
    "list3=[]\n",
    "list3+='Python Kooc'\n",
    "print(list3, len(list3))\n",
    "\n",
    "list3+=('M','o','o','c')\n",
    "print(list3, len(list3))"
   ]
  },
  {
   "cell_type": "code",
   "execution_count": 9,
   "metadata": {},
   "outputs": [
    {
     "name": "stdout",
     "output_type": "stream",
     "text": [
      "[1, 2, 3, 4, 5, 6, 'c', 'a', 'b', 11, 12, 13]\n"
     ]
    }
   ],
   "source": [
    "list12=list1+list2\n",
    "print(list12)"
   ]
  },
  {
   "cell_type": "markdown",
   "metadata": {},
   "source": [
    "# 2.Tuples\n",
    "- __Immmutable__ and typically store __heterogeous data__\n",
    "- So, __dataset__ are often stored as tuples.\n",
    "- Tuples are denoted by __parenthesis ()__, in which data are put."
   ]
  },
  {
   "cell_type": "code",
   "execution_count": 10,
   "metadata": {},
   "outputs": [
    {
     "name": "stdout",
     "output_type": "stream",
     "text": [
      "(10, 20, 30, 'John', 40, 50)\n"
     ]
    }
   ],
   "source": [
    "t1=10,20,30,'John'\n",
    "t1+=(40,50)\n",
    "print(t1)"
   ]
  },
  {
   "cell_type": "code",
   "execution_count": 11,
   "metadata": {},
   "outputs": [
    {
     "name": "stdout",
     "output_type": "stream",
     "text": [
      "(1, 2, 3, 4)\n",
      "3\n",
      "(1, 2, 3)\n"
     ]
    }
   ],
   "source": [
    "t2=tuple([1,2,3,4])\n",
    "print(t2)\n",
    "print(t2[2])\n",
    "print(t2[:3])"
   ]
  },
  {
   "cell_type": "code",
   "execution_count": 13,
   "metadata": {},
   "outputs": [
    {
     "name": "stdout",
     "output_type": "stream",
     "text": [
      "('Kim', 'Park', 'Kwon', [80, 90, 100]) 4 [80, 90, 100]\n",
      "('Kim', 'Park', 'Kwon', [80, 85, 100])\n"
     ]
    }
   ],
   "source": [
    "t3='Kim','Park','Kwon',[80,90,100]\n",
    "print(t3, len(t3), t3[3])\n",
    "t3[3][1]=85\n",
    "print(t3)"
   ]
  },
  {
   "cell_type": "markdown",
   "metadata": {},
   "source": [
    "#### 3.Unpacking sequences:any sequence can be unpacked"
   ]
  },
  {
   "cell_type": "code",
   "execution_count": 14,
   "metadata": {},
   "outputs": [
    {
     "name": "stdout",
     "output_type": "stream",
     "text": [
      "2\n",
      "('Kim', 'Park', 'Kwon') [80, 90, 100] <class 'tuple'> <class 'list'>\n"
     ]
    }
   ],
   "source": [
    "t4=(('Kim','Park','Kwon'),[80,90,100])\n",
    "print(len(t4))\n",
    "last_name,grades=t4\n",
    "print(last_name,grades, type(last_name), type(grades))"
   ]
  },
  {
   "cell_type": "code",
   "execution_count": 15,
   "metadata": {},
   "outputs": [
    {
     "name": "stdout",
     "output_type": "stream",
     "text": [
      "80 90 100\n"
     ]
    }
   ],
   "source": [
    "grade1, grade2, grade3=grades\n",
    "print(grade1, grade2, grade3)"
   ]
  },
  {
   "cell_type": "code",
   "execution_count": 17,
   "metadata": {},
   "outputs": [
    {
     "name": "stdout",
     "output_type": "stream",
     "text": [
      "W I F I\n"
     ]
    }
   ],
   "source": [
    "first, second, third, fourth = 'WIFI'\n",
    "print(first, second, third, fourth)"
   ]
  },
  {
   "cell_type": "markdown",
   "metadata": {},
   "source": [
    "#### 4.Enumerate:A built-in function\n",
    "- for creating a list or tuple with index and element value"
   ]
  },
  {
   "cell_type": "code",
   "execution_count": 19,
   "metadata": {},
   "outputs": [
    {
     "name": "stdout",
     "output_type": "stream",
     "text": [
      "[(0, 'red'), (1, 'yellow'), (2, 'blue'), (3, 'black'), (4, 'white')]\n",
      "((0, 'red'), (1, 'yellow'), (2, 'blue'), (3, 'black'), (4, 'white'))\n",
      "0:red\n",
      "1:yellow\n",
      "2:blue\n",
      "3:black\n",
      "4:white\n"
     ]
    }
   ],
   "source": [
    "colors=['red','yellow','blue','black','white']\n",
    "print(list(enumerate(colors)))\n",
    "print(tuple(enumerate(colors)))\n",
    "\n",
    "for index, color in enumerate(colors):\n",
    "    print(f'{index}:{color}')"
   ]
  },
  {
   "cell_type": "code",
   "execution_count": 27,
   "metadata": {},
   "outputs": [
    {
     "name": "stdout",
     "output_type": "stream",
     "text": [
      "Creating a bar chart:\n",
      "Index   Value    Bar\n",
      "    0      19    *******************\n",
      "    1       8    ********\n",
      "    2      15    ***************\n",
      "    3       7    *******\n",
      "    4      11    ***********\n"
     ]
    }
   ],
   "source": [
    "bar=[19,8,15,7,11]\n",
    "print('Creating a bar chart:')\n",
    "print(f'Index{\"Value\":>8}    Bar')\n",
    "for index, value in enumerate(bar):\n",
    "    print(f'{index:>5}{value:>8}    {\"*\"*value}')"
   ]
  },
  {
   "cell_type": "markdown",
   "metadata": {},
   "source": [
    "#### 5. Slicing with steps and modifying lists with slicing"
   ]
  },
  {
   "cell_type": "code",
   "execution_count": 22,
   "metadata": {},
   "outputs": [
    {
     "name": "stdout",
     "output_type": "stream",
     "text": [
      "[1, 2, 3, 4, 5, 6, 'c', 'a', 'b', 11, 12, 13] 12\n",
      "[1, 2, 3, 4, 5, 6, 'c', 'a', 'b', 11, 12, 13]\n",
      "[1, 3, 5, 'c', 'b', 12]\n"
     ]
    }
   ],
   "source": [
    "print(list12, len(list12))\n",
    "print(list12[:])\n",
    "print(list12[::2])"
   ]
  },
  {
   "cell_type": "code",
   "execution_count": 23,
   "metadata": {},
   "outputs": [
    {
     "name": "stdout",
     "output_type": "stream",
     "text": [
      "['one', 'two', 'three', 4, 5, 6, 'c', 'a', 'b', 11, 12, 13]\n",
      "[4, 5, 6, 'c', 'a', 'b', 11, 12, 13]\n"
     ]
    }
   ],
   "source": [
    "list12[0:3]=['one','two','three']\n",
    "print(list12)\n",
    "list12[0:3]=[]\n",
    "print(list12)"
   ]
  },
  {
   "cell_type": "markdown",
   "metadata": {},
   "source": [
    "#### 6.Deleting elements and lists"
   ]
  },
  {
   "cell_type": "code",
   "execution_count": 24,
   "metadata": {},
   "outputs": [
    {
     "name": "stdout",
     "output_type": "stream",
     "text": [
      "[4, 5, 6, 'c', 'a', 'b', 11, 12]\n",
      "[5, 'c', 'b', 12]\n",
      "[]\n"
     ]
    }
   ],
   "source": [
    "del list12[-1]\n",
    "print(list12)\n",
    "del list12[::2]\n",
    "print(list12)\n",
    "del list12[:]\n",
    "print(list12)"
   ]
  },
  {
   "cell_type": "code",
   "execution_count": 30,
   "metadata": {},
   "outputs": [
    {
     "ename": "NameError",
     "evalue": "name 'bar' is not defined",
     "output_type": "error",
     "traceback": [
      "\u001b[1;31m---------------------------------------------------------------------------\u001b[0m",
      "\u001b[1;31mNameError\u001b[0m                                 Traceback (most recent call last)",
      "\u001b[1;32m<ipython-input-30-fafe73ee1719>\u001b[0m in \u001b[0;36m<module>\u001b[1;34m\u001b[0m\n\u001b[1;32m----> 1\u001b[1;33m \u001b[0mprint\u001b[0m\u001b[1;33m(\u001b[0m\u001b[0mbar\u001b[0m\u001b[1;33m)\u001b[0m\u001b[1;33m\u001b[0m\u001b[1;33m\u001b[0m\u001b[0m\n\u001b[0m\u001b[0;32m      2\u001b[0m \u001b[1;32mdel\u001b[0m \u001b[0mbar\u001b[0m\u001b[1;33m\u001b[0m\u001b[1;33m\u001b[0m\u001b[0m\n\u001b[0;32m      3\u001b[0m \u001b[1;31m#print(bar)\u001b[0m\u001b[1;33m\u001b[0m\u001b[1;33m\u001b[0m\u001b[1;33m\u001b[0m\u001b[0m\n",
      "\u001b[1;31mNameError\u001b[0m: name 'bar' is not defined"
     ]
    }
   ],
   "source": [
    "print(bar)\n",
    "del bar\n",
    "#print(bar)"
   ]
  },
  {
   "cell_type": "markdown",
   "metadata": {},
   "source": [
    "#### 7. Sorting lists with sorting method"
   ]
  },
  {
   "cell_type": "code",
   "execution_count": 31,
   "metadata": {},
   "outputs": [
    {
     "data": {
      "text/plain": [
       "[1, 2, 3, 4, 5, 6, 7, 8, 9, 11, 15]"
      ]
     },
     "execution_count": 31,
     "metadata": {},
     "output_type": "execute_result"
    }
   ],
   "source": [
    "numbers=[7,2,5,4,3,6,1,9,8,15,11]\n",
    "numbers.sort()\n",
    "numbers"
   ]
  },
  {
   "cell_type": "code",
   "execution_count": 37,
   "metadata": {},
   "outputs": [
    {
     "name": "stdout",
     "output_type": "stream",
     "text": [
      "[15, 11, 9, 8, 7, 6, 5, 4, 3, 2, 1]\n"
     ]
    }
   ],
   "source": [
    "numbers=[7,2,5,4,3,6,1,9,8,15,11]\n",
    "numbers.reverse()\n",
    "numbers.sort(reverse=True)\n",
    "print(numbers)"
   ]
  },
  {
   "cell_type": "code",
   "execution_count": 39,
   "metadata": {},
   "outputs": [
    {
     "name": "stdout",
     "output_type": "stream",
     "text": [
      "['J', 'I', 'love', 'you,', 'and', 'do', 'you', 'love', 'me?'] <class 'list'>\n",
      "['J', 'I', 'do', 'and', 'you', 'me?', 'love', 'you,', 'love'] <class 'list'>\n",
      "['I', 'J', 'and', 'do', 'love', 'love', 'me?', 'you', 'you,']\n"
     ]
    }
   ],
   "source": [
    "a_string='J I love you, and do you love me?'\n",
    "a_string=a_string.split()\n",
    "print(a_string, type(a_string))\n",
    "a_string.sort(key=len) #문자순서갯수대로 정렬\n",
    "print(a_string, type(a_string))\n",
    "a_string=sorted(a_string) #대문자>소문자 후 문자순서대로 정렬\n",
    "print(a_string)"
   ]
  },
  {
   "cell_type": "code",
   "execution_count": 41,
   "metadata": {},
   "outputs": [
    {
     "name": "stdout",
     "output_type": "stream",
     "text": [
      "[7, 2, 5, 4, 3, 6, 1, 9, 8, 15, 11]\n",
      "[1, 2, 3, 4, 5, 6, 7, 8, 9, 11, 15]\n",
      "[11, 15, 8, 9, 1, 6, 3, 4, 5, 2, 7]\n",
      "[7, 2, 5, 4, 3, 6, 1, 9, 8, 15, 11]\n"
     ]
    }
   ],
   "source": [
    "x=[7,2,5,4,3,6,1,9,8,15,11]\n",
    "y=sorted(x)\n",
    "z=reversed(x)\n",
    "print(x)\n",
    "print(y)\n",
    "print(list(z))\n",
    "print(x)\n"
   ]
  },
  {
   "cell_type": "markdown",
   "metadata": {},
   "source": [
    "#### 8.Searching elements and useful list methods"
   ]
  },
  {
   "cell_type": "code",
   "execution_count": 43,
   "metadata": {},
   "outputs": [
    {
     "name": "stdout",
     "output_type": "stream",
     "text": [
      "4\n",
      "False\n",
      "True\n",
      "False\n"
     ]
    }
   ],
   "source": [
    "print(x.index(3))\n",
    "print(12 in x)\n",
    "print(12 not in x)\n",
    "print('Love' in a_string)"
   ]
  },
  {
   "cell_type": "code",
   "execution_count": 44,
   "metadata": {},
   "outputs": [
    {
     "name": "stdout",
     "output_type": "stream",
     "text": [
      "['I', 'J', 'and', 'do', 'love', 'love', 'me?', 'you', 'you,']\n",
      "['I', 'J', 'and', 'him', 'do', 'love', 'love', 'me?', 'you', 'you,']\n"
     ]
    }
   ],
   "source": [
    "print(a_string)\n",
    "a_string.insert(3,'him')\n",
    "print(a_string)"
   ]
  },
  {
   "cell_type": "code",
   "execution_count": 45,
   "metadata": {},
   "outputs": [
    {
     "name": "stdout",
     "output_type": "stream",
     "text": [
      "['I', 'J', 'and', 'him', 'do', 'love', 'love', 'me?', 'you', 'you,', 'hate']\n",
      "['I', 'J', 'and', 'do', 'love', 'love', 'me?', 'you', 'you,', 'hate']\n"
     ]
    }
   ],
   "source": [
    "a_string.append('hate')\n",
    "print(a_string)\n",
    "a_string.remove('him')\n",
    "print(a_string)"
   ]
  },
  {
   "cell_type": "code",
   "execution_count": 46,
   "metadata": {},
   "outputs": [
    {
     "name": "stdout",
     "output_type": "stream",
     "text": [
      "['I', 'J', 'and', 'do', 'love', 'love', 'me?', 'you', 'you,', 'hate', 'I', 'and']\n",
      "['I', 'J', 'and', 'do', 'love', 'love', 'me?', 'you', 'you,', 'hate', 'I', 'and']\n"
     ]
    }
   ],
   "source": [
    "print(a_string+['I','and'])\n",
    "a_string.extend(['I','and'])\n",
    "print(a_string)"
   ]
  },
  {
   "cell_type": "code",
   "execution_count": 47,
   "metadata": {},
   "outputs": [
    {
     "name": "stdout",
     "output_type": "stream",
     "text": [
      "[]\n"
     ]
    }
   ],
   "source": [
    "a_string.clear()\n",
    "print(a_string)"
   ]
  },
  {
   "cell_type": "code",
   "execution_count": 48,
   "metadata": {},
   "outputs": [
    {
     "name": "stdout",
     "output_type": "stream",
     "text": [
      "[7, 2, 5, 4, 3, 6, 1, 9, 8, 15, 11]\n",
      "[7, 2, 5, 4, 3, 6, 1, 9, 8, 15, 11]\n"
     ]
    }
   ],
   "source": [
    "print(x)\n",
    "x_copied=x.copy()\n",
    "print(x_copiedcopied)"
   ]
  },
  {
   "cell_type": "markdown",
   "metadata": {},
   "source": []
  },
  {
   "cell_type": "code",
   "execution_count": null,
   "metadata": {},
   "outputs": [],
   "source": []
  }
 ],
 "metadata": {
  "kernelspec": {
   "display_name": "Python 3",
   "language": "python",
   "name": "python3"
  },
  "language_info": {
   "codemirror_mode": {
    "name": "ipython",
    "version": 3
   },
   "file_extension": ".py",
   "mimetype": "text/x-python",
   "name": "python",
   "nbconvert_exporter": "python",
   "pygments_lexer": "ipython3",
   "version": "3.6.5"
  }
 },
 "nbformat": 4,
 "nbformat_minor": 5
}
