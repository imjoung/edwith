{
 "cells": [
  {
   "cell_type": "markdown",
   "metadata": {},
   "source": [
    "#### 1. Dictionaries : Creating, updating, and oprations\n",
    "\n",
    "- __Kyes must be unique( no overlapping elements) and immutable__\n",
    "- : 키값은 지울 수 있는데 바꿀수는 없다.\n",
    "- However, keys can have the same value.\n",
    "- Dictionaries are often used in ML for providing values to variables."
   ]
  },
  {
   "cell_type": "code",
   "execution_count": 5,
   "metadata": {},
   "outputs": [
    {
     "name": "stdout",
     "output_type": "stream",
     "text": [
      "{'korea': 'kr', 'Japan': 'jp', 'Taiwan': 'tw', 'Finland': 'fi'}\n",
      "4\n",
      "kr\n"
     ]
    }
   ],
   "source": [
    "#Marking a dictionary with a comma separated paired list, {key:value}\n",
    "countries = {'korea':'kr', 'Japan':'jp','Taiwan':'tw','Finland':'fi'}\n",
    "print(countries)\n",
    "print(len(countries))\n",
    "print(countries['korea'])"
   ]
  },
  {
   "cell_type": "code",
   "execution_count": 13,
   "metadata": {},
   "outputs": [
    {
     "name": "stdout",
     "output_type": "stream",
     "text": [
      "{'korea': 82, 'Japan': '81', 'Taiwan': 'tw', 'Finland': 'fi', 'canada': 'ca', 'China': 'cn'}\n",
      "{'korea': 82, 'Japan': '81', 'Taiwan': 'tw', 'Finland': 'fi', 'canada': 'ca', 'China': 'cn'}\n",
      "{'korea': 82, 'Japan': '81', 'Taiwan': 'tw', 'Finland': 'fi', 'canada': 'ca', 'China': 'cn'}\n",
      "{'korea': 82, 'Japan': '81', 'Taiwan': 'tw', 'Finland': 'fi', 'canada': 'ca', 'China': 'cn'}\n",
      "{'Japan': '81', 'Taiwan': 'tw', 'Finland': 'fi', 'canada': 'ca', 'China': 'cn'}\n"
     ]
    }
   ],
   "source": [
    "#Dictionary operations\n",
    "countries['korea'] = 82 #korea key값이 kr -> 82로 변경됨 \n",
    "print(countries)\n",
    "countries.update(Japan = '81') #japan key값도 jp -> 81로 변경 \n",
    "print(countries)\n",
    "countries['canada'] = 'ca' #key:value = canada:ca  딕셔너리 추가 \n",
    "print(countries)\n",
    "countries.update(China = 'cn') #key:value = china:cn 딕셔너리 추가\n",
    "print(countries)\n",
    "del countries['korea'] #del : korea 삭제 \n",
    "print(countries)"
   ]
  },
  {
   "cell_type": "code",
   "execution_count": 15,
   "metadata": {},
   "outputs": [
    {
     "name": "stdout",
     "output_type": "stream",
     "text": [
      "None\n",
      "81\n"
     ]
    }
   ],
   "source": [
    "#Dictionary operations\n",
    "print(countries.get('korea'))\n",
    "#위에서 korea 삭제 -> 딕셔너리에 없으면 None값으로 return\n",
    "#get을 안쓰면 그냥 오류. ( 딕셔너리에 있는 값인지 검색하고 싶을 때 사용)\n",
    "print(countries.get('Japan'))\n",
    "#딕셔너리에 있는 값음 value값이 출력"
   ]
  },
  {
   "cell_type": "markdown",
   "metadata": {},
   "source": [
    "#### 2. Dictionaries : Iterations and extractions"
   ]
  },
  {
   "cell_type": "code",
   "execution_count": 18,
   "metadata": {},
   "outputs": [
    {
     "name": "stdout",
     "output_type": "stream",
     "text": [
      "The country code of Korea is kr.\n",
      "The country code of Japan is jp.\n",
      "The country code of Taiwan is tw.\n",
      "The country code of Finland is fi.\n"
     ]
    }
   ],
   "source": [
    "#Iterating elements in a dictionary 1.\n",
    "countries = {'Korea':'kr', 'Japan':'jp','Taiwan':'tw','Finland':'fi'}\n",
    "#item methods: return key and values \n",
    "for country, code in countries.items():\n",
    "    print(f'The country code of {country} is {code}.')"
   ]
  },
  {
   "cell_type": "code",
   "execution_count": 20,
   "metadata": {},
   "outputs": [
    {
     "name": "stdout",
     "output_type": "stream",
     "text": [
      "Korea Japan Taiwan Finland \n",
      "kr jp tw fi "
     ]
    }
   ],
   "source": [
    "#Iterating elements in a dictionary 2.\n",
    "for country in countries.keys():\n",
    "    print(country, end=' ')\n",
    "print()\n",
    "for codes in countries.values():\n",
    "    print(codes, end=' ')"
   ]
  },
  {
   "cell_type": "code",
   "execution_count": 29,
   "metadata": {},
   "outputs": [
    {
     "name": "stdout",
     "output_type": "stream",
     "text": [
      "['korea', 'Japan', 'Taiwan', 'Finland']\n",
      "[82, 81, 886, 358]\n",
      "([('korea', 82), ('Japan', 81), ('Taiwan', 886), ('Finland', 358)], [('korea', 82), ('Japan', 81)])\n"
     ]
    }
   ],
   "source": [
    "#Extracting keys, values, and elements of dictionaries\n",
    "c_codes = {'korea':82,'Japan':81,'Taiwan':886,'Finland':358}\n",
    "print(list(c_codes.keys()))\n",
    "print(list(c_codes.values()))\n",
    "l_countries = list(c_codes.items())\n",
    "#print(l_countries, l_countries[2])\n",
    "\n",
    "sliced_c = l_countries, l_countries[:2]\n",
    "print(sliced_c)"
   ]
  },
  {
   "cell_type": "markdown",
   "metadata": {},
   "source": [
    "(Exercise)Printing the country name and code without using items() mothod?"
   ]
  },
  {
   "cell_type": "code",
   "execution_count": 31,
   "metadata": {},
   "outputs": [
    {
     "name": "stdout",
     "output_type": "stream",
     "text": [
      "The country code of Korea is kr.\n",
      "The country code of Japan is jp.\n",
      "The country code of Taiwan is tw.\n",
      "The country code of Finland is fi.\n"
     ]
    }
   ],
   "source": [
    "for i,j in zip(countries.keys(), countries.values()):\n",
    "    print(f'The country code of {i} is {j}.')"
   ]
  },
  {
   "cell_type": "markdown",
   "metadata": {},
   "source": [
    "#### 3. Dictionaries : Sorting and comprehension expressions"
   ]
  },
  {
   "cell_type": "code",
   "execution_count": 32,
   "metadata": {},
   "outputs": [
    {
     "name": "stdout",
     "output_type": "stream",
     "text": [
      "['Finland', 'Japan', 'Taiwan', 'korea']\n",
      "['Finland', 'Japan', 'Taiwan', 'korea']\n",
      "[81, 82, 358, 886]\n",
      "[('Finland', 358), ('Japan', 81), ('Taiwan', 886), ('korea', 82)]\n"
     ]
    }
   ],
   "source": [
    "# Sorting dictionary items\n",
    "print(sorted(c_codes))\n",
    "print(sorted(c_codes.keys()))\n",
    "print(sorted(c_codes.values()))\n",
    "print(sorted(c_codes.items()))"
   ]
  },
  {
   "cell_type": "code",
   "execution_count": 37,
   "metadata": {},
   "outputs": [
    {
     "name": "stdout",
     "output_type": "stream",
     "text": [
      "[(81, 'Japan'), (82, 'korea'), (358, 'Finland'), (886, 'Taiwan')]\n",
      "{'Japan': 27.666666666666668, 'Korea': 26.666666666666668}\n",
      "{'Japan': 81, 'korea': 82, 'Finland': 358, 'Taiwan': 886}\n"
     ]
    }
   ],
   "source": [
    "# Dictionary comprehension : switching keys and values\n",
    "switched = {code:country for country, code in c_codes.items()}\n",
    "# item은 key랑 values를 뽑아줌 \n",
    "# key값이 country변수에 들어가고 value값은 code변수에 들어감\n",
    "# switch라는 새로운 딕셔너리에 key값으로 code, value값으로 country 들어감\n",
    "print(sorted(switched.items()))\n",
    "\n",
    "#Marking a new dictionary with a dictionary\n",
    "temperature = {'Japan':[23,34,26],'Korea':[22,33,25]}\n",
    "temp_mean = {k:sum(v)/len(v) for k, v in temperature.items()}\n",
    "print(temp_mean)\n",
    "\n",
    "#lambda:익명함수를 만드는 기능\n",
    "s_value = {k:v for k, v in sorted(c_codes.items(), key=lambda country: country[1])}\n",
    "#value값을 key로 사용해서 sorting을 하고 새로운 s_value값에 key:value 저장\n",
    "print(s_value)"
   ]
  },
  {
   "cell_type": "markdown",
   "metadata": {},
   "source": [
    "(Exercise) Word tokenizing example with a quote from 'I have a dream'\n"
   ]
  },
  {
   "cell_type": "code",
   "execution_count": 38,
   "metadata": {},
   "outputs": [],
   "source": [
    "#Tokenizing strings\n",
    "dream = \"\"\"I have a dream that one day this nation will rise up and live out the true \n",
    "meaning of its creed We hold these truths to be self-evident that all men are created equal\n",
    "I have a dream that one day on the red hills of Georgia the sons of former slaves and the sons of \n",
    "former slave owners will be able to sit down together at the table of brotherhood\n",
    "I have a dream that one day even the state of Mississippi a state sweltering with the heat \n",
    "of injustice sweltering with the heat of oppression, will be transformed into an oasis of freedom \n",
    "and justice \n",
    "I have a dream that my four little children will one day live in a nation where they will not be \n",
    "judged by the color of their skin but by the content of their character\n",
    "I have a dream today\n",
    "I have a dream that one day, down in Alabama, with its vicious racists, with its governor having \n",
    "his lips dripping with the words of interposition and nullification one day right there \n",
    "in Alabama little black boys and black girls will be able to join hands with little white boys \n",
    "and white girls as sisters and brothers\"\"\"\n",
    "\n"
   ]
  },
  {
   "cell_type": "code",
   "execution_count": 46,
   "metadata": {},
   "outputs": [
    {
     "name": "stdout",
     "output_type": "stream",
     "text": [
      "{'of': 12, 'the': 11, 'a': 8, 'and': 7, 'I': 6, 'have': 6, 'dream': 6, 'that': 6, 'one': 6, 'will': 6, 'with': 6, 'day': 5, 'be': 5, 'its': 3, 'to': 3, 'little': 3, 'in': 3, 'nation': 2, 'live': 2, 'sons': 2, 'former': 2, 'able': 2, 'down': 2, 'state': 2, 'sweltering': 2, 'heat': 2, 'by': 2, 'their': 2, 'black': 2, 'boys': 2, 'girls': 2, 'white': 2, 'this': 1, 'rise': 1, 'up': 1, 'out': 1, 'true': 1, 'meaning': 1, 'creed': 1, 'We': 1, 'hold': 1, 'these': 1, 'truths': 1, 'self-evident': 1, 'all': 1, 'men': 1, 'are': 1, 'created': 1, 'equal': 1, 'on': 1, 'red': 1, 'hills': 1, 'Georgia': 1, 'slaves': 1, 'slave': 1, 'owners': 1, 'sit': 1, 'together': 1, 'at': 1, 'table': 1, 'brotherhood': 1, 'even': 1, 'Mississippi': 1, 'injustice': 1, 'oppression,': 1, 'transformed': 1, 'into': 1, 'an': 1, 'oasis': 1, 'freedom': 1, 'justice': 1, 'my': 1, 'four': 1, 'children': 1, 'where': 1, 'they': 1, 'not': 1, 'judged': 1, 'color': 1, 'skin': 1, 'but': 1, 'content': 1, 'character': 1, 'today': 1, 'day,': 1, 'Alabama,': 1, 'vicious': 1, 'racists,': 1, 'governor': 1, 'having': 1, 'his': 1, 'lips': 1, 'dripping': 1, 'words': 1, 'interposition': 1, 'nullification': 1, 'right': 1, 'there': 1, 'Alabama': 1, 'join': 1, 'hands': 1, 'as': 1, 'sisters': 1, 'brothers': 1}\n"
     ]
    }
   ],
   "source": [
    "dream_words = dream.split()\n",
    "#print(dream_words)\n",
    "wordlist = {}\n",
    "for word in dream_words:\n",
    "    if word in wordlist:\n",
    "        wordlist[word] += 1\n",
    "    else:\n",
    "        wordlist[word] =1\n",
    "#print(wordlist, len(wordlist))\n",
    "swl_byvalue = {k: v for k, v in sorted(wordlist.items(), key=lambda i: i[1], reverse=True)}\n",
    "print(swl_byvalue)"
   ]
  },
  {
   "cell_type": "code",
   "execution_count": 47,
   "metadata": {
    "scrolled": true
   },
   "outputs": [
    {
     "name": "stdout",
     "output_type": "stream",
     "text": [
      "WORD            COUNT\n",
      "of              12\n",
      "the             11\n",
      "a               8\n",
      "and             7\n",
      "I               6\n",
      "have            6\n",
      "dream           6\n",
      "that            6\n",
      "one             6\n",
      "will            6\n",
      "with            6\n",
      "\n",
      "Number of unique words:  104\n"
     ]
    }
   ],
   "source": [
    "print(f'{\"WORD\":<16}COUNT')\n",
    "\n",
    "for word, count in swl_byvalue.items():\n",
    "    if count >=6:\n",
    "        print(f'{word:<16}{count}')\n",
    "print('\\nNumber of unique words: ', len(wordlist))"
   ]
  },
  {
   "cell_type": "code",
   "execution_count": 49,
   "metadata": {},
   "outputs": [
    {
     "name": "stdout",
     "output_type": "stream",
     "text": [
      "WORD            COUNT\n",
      "I               6\n",
      "have            6\n",
      "a               8\n",
      "dream           6\n",
      "that            6\n",
      "one             6\n",
      "will            6\n",
      "and             7\n",
      "the             11\n",
      "of              12\n",
      "with            6\n",
      "\n",
      "Number of unique words:  104\n"
     ]
    }
   ],
   "source": [
    "#Do the same with Counter in collections\n",
    "from collections import Counter\n",
    "\n",
    "wordlist1 = Counter(dream_words)\n",
    "#print(wordlist1)\n",
    "sorted_wl1 = {k: v for k, v in sorted(wordlist1.items(), key=lambda i: i[1], reverse = True)}\n",
    "\n",
    "print(f'{\"WORD\":<16}COUNT')\n",
    "for word, count in wordlist1.items():\n",
    "    if count >=6:\n",
    "        print(f'{word:<16}{count}')\n",
    "print('\\nNumber of unique words: ', len(wordlist1))"
   ]
  },
  {
   "cell_type": "markdown",
   "metadata": {},
   "source": [
    "#### 4.Sets : Creation and modification"
   ]
  },
  {
   "cell_type": "code",
   "execution_count": 50,
   "metadata": {},
   "outputs": [
    {
     "name": "stdout",
     "output_type": "stream",
     "text": [
      "{'March', 'February', 'June', 'April', 'January', 'May'}\n"
     ]
    }
   ],
   "source": [
    "# no duplicates are allowed\n",
    "Months = {'January','February','February','March','April','May','June'}\n",
    "#set은 순서 없음 중복 불가능\n",
    "print(Months)\n"
   ]
  },
  {
   "cell_type": "code",
   "execution_count": 53,
   "metadata": {},
   "outputs": [
    {
     "name": "stdout",
     "output_type": "stream",
     "text": [
      "{0, 1, 2, 3, 4, 5, 6, 7, 8, 9, 10, 11, 12, 13, 14}\n",
      "15\n",
      "True\n"
     ]
    }
   ],
   "source": [
    "#marking a set with a built-in function set\n",
    "digits = set(list(range(10)) + list(range(5,15)))\n",
    "#: 0-9 + 5-14 : 중복없이 0-14까지 생성\n",
    "print(digits)\n",
    "print(len(digits))\n",
    "#digits 안에 10이 있으면 true 없으면 false\n",
    "print(10 in digits)"
   ]
  },
  {
   "cell_type": "code",
   "execution_count": 54,
   "metadata": {},
   "outputs": [
    {
     "name": "stdout",
     "output_type": "stream",
     "text": [
      "{0, 1, 2, 3, 4, 5, 6, 7, 9, 10, 11, 12, 13, 14}\n"
     ]
    }
   ],
   "source": [
    "#removing an element in a set\n",
    "digits.remove(8)\n",
    "print(digits)"
   ]
  },
  {
   "cell_type": "code",
   "execution_count": 55,
   "metadata": {},
   "outputs": [
    {
     "name": "stdout",
     "output_type": "stream",
     "text": [
      "set()\n"
     ]
    }
   ],
   "source": [
    "#removing all elements in a set\n",
    "digits.clear()\n",
    "print(digits)\n"
   ]
  },
  {
   "cell_type": "code",
   "execution_count": 56,
   "metadata": {},
   "outputs": [
    {
     "name": "stdout",
     "output_type": "stream",
     "text": [
      "{0, 1, 2, 3, 4, 5, 6, 7, 8, 9}\n"
     ]
    }
   ],
   "source": [
    "#adding elements to a set\n",
    "digits.update(range(10))\n",
    "print(digits)"
   ]
  },
  {
   "cell_type": "markdown",
   "metadata": {},
   "source": [
    "##### 5.Set: Operations and comprehension"
   ]
  },
  {
   "cell_type": "code",
   "execution_count": 58,
   "metadata": {},
   "outputs": [
    {
     "name": "stdout",
     "output_type": "stream",
     "text": [
      "True\n",
      "True\n",
      "{1, 2, 3, 4, 5, 6, 7}\n",
      "{1, 2, 3}\n",
      "set()\n",
      "{4, 5, 6, 7}\n"
     ]
    }
   ],
   "source": [
    "#comparisons\n",
    "print({1,2,3} <= {1,2,3,4,5,6,7})\n",
    "#왼쪽셋이 오른쪽 셋의 부분집합인가?\n",
    "print({1,2,3} <= {1,2,3})\n",
    "print({1,2,3} | {1,2,3,4,5,6,7})\n",
    "#합집합\n",
    "print({1,2,3} & {1,2,3,4,5,6,7})\n",
    "#교집합\n",
    "print({1,2,3} - {1,2,3,4,5,6,7})\n",
    "#여집합\n",
    "print({1,2,3,4,5,6,7} - {1,2,3})\n"
   ]
  },
  {
   "cell_type": "code",
   "execution_count": 59,
   "metadata": {},
   "outputs": [
    {
     "name": "stdout",
     "output_type": "stream",
     "text": [
      "{1, 3, 5, 7, 9}\n"
     ]
    }
   ],
   "source": [
    "odds = {i for i in digits if i%2 != 0}\n",
    "print(odds)"
   ]
  },
  {
   "cell_type": "code",
   "execution_count": null,
   "metadata": {},
   "outputs": [],
   "source": []
  }
 ],
 "metadata": {
  "kernelspec": {
   "display_name": "Python 3",
   "language": "python",
   "name": "python3"
  },
  "language_info": {
   "codemirror_mode": {
    "name": "ipython",
    "version": 3
   },
   "file_extension": ".py",
   "mimetype": "text/x-python",
   "name": "python",
   "nbconvert_exporter": "python",
   "pygments_lexer": "ipython3",
   "version": "3.6.5"
  }
 },
 "nbformat": 4,
 "nbformat_minor": 5
}
