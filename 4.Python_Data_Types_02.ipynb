{
 "cells": [
  {
   "cell_type": "markdown",
   "metadata": {},
   "source": [
    "#### 9.List comprehensions"
   ]
  },
  {
   "cell_type": "code",
   "execution_count": 2,
   "metadata": {},
   "outputs": [
    {
     "name": "stdout",
     "output_type": "stream",
     "text": [
      "[0, 2, 4, 6, 8]\n",
      "[0, 2, 4, 6, 8]\n",
      "[1, 3, 5, 7, 9]\n"
     ]
    }
   ],
   "source": [
    "list_range = list(range(0,10,2))\n",
    "print(list_range)\n",
    "\n",
    "list_com = [i for i in range(0,10,2)]\n",
    "print(list_com)\n",
    "list_con = [i for i in range(0,10)if i%2 != 0]\n",
    "print(listlist_con)"
   ]
  },
  {
   "cell_type": "code",
   "execution_count": 4,
   "metadata": {},
   "outputs": [
    {
     "name": "stdout",
     "output_type": "stream",
     "text": [
      "[0, 4, 16, 36, 64]\n",
      "['I', ' ', 'L', 'O', 'V', 'E', ' ', 'Y', 'O', 'U', ' ', 'A', 'N', 'D', ' ', 'D', 'O', ' ', 'Y', 'O', 'U', ' ', 'L', 'O', 'V', 'E', ' ', 'M', 'E', '?']\n"
     ]
    }
   ],
   "source": [
    "list_op = [i**2 for i in range(0,10,2)]\n",
    "print(list_op)\n",
    "a_string = 'I love you and do you love me?'\n",
    "list_up = [i.upper() for i in a_string]\n",
    "print(list_up)"
   ]
  },
  {
   "cell_type": "code",
   "execution_count": 5,
   "metadata": {},
   "outputs": [
    {
     "name": "stdout",
     "output_type": "stream",
     "text": [
      "<generator object <genexpr> at 0x0000018171975F48>\n",
      "[4, 8, 20, 40, 68]\n"
     ]
    }
   ],
   "source": [
    "list_gen = (i**2 for i in range(10) if i%2 ==0)\n",
    "print(list_gen)\n",
    "list_gen1 = [i+4 for i in list_gen]\n",
    "print(list_gen1)"
   ]
  },
  {
   "cell_type": "markdown",
   "metadata": {},
   "source": [
    "#### 10. lambda expression, map, and zip functions"
   ]
  },
  {
   "cell_type": "code",
   "execution_count": 6,
   "metadata": {},
   "outputs": [
    {
     "name": "stdout",
     "output_type": "stream",
     "text": [
      "[0, 1, 2, 3, 4, 5, 6, 7, 8, 9, 10, 11, 12, 13, 14, 15, 16, 17, 18, 19, 20, 21, 22, 23, 24]\n"
     ]
    }
   ],
   "source": [
    "list3 = list(range(0,25))\n",
    "print(list3)\n",
    "\n",
    "def is_multiple3(x):\n",
    "    \"\"\"Return True if x is a multiple of 3\"\"\"\n",
    "    return x % 3 == 0"
   ]
  },
  {
   "cell_type": "code",
   "execution_count": 7,
   "metadata": {},
   "outputs": [
    {
     "data": {
      "text/plain": [
       "[0, 3, 6, 9, 12, 15, 18, 21, 24]"
      ]
     },
     "execution_count": 7,
     "metadata": {},
     "output_type": "execute_result"
    }
   ],
   "source": [
    "list(filter(is_multiple3, list3))"
   ]
  },
  {
   "cell_type": "code",
   "execution_count": 8,
   "metadata": {},
   "outputs": [
    {
     "data": {
      "text/plain": [
       "[0, 3, 6, 9, 12, 15, 18, 21, 24]"
      ]
     },
     "execution_count": 8,
     "metadata": {},
     "output_type": "execute_result"
    }
   ],
   "source": [
    "#lambda는 단 하나의 input만 받을 수 있다.\n",
    "list4 = list(filter(lambda x: x%3 == 0 , list3))\n",
    "list4"
   ]
  },
  {
   "cell_type": "code",
   "execution_count": 9,
   "metadata": {},
   "outputs": [
    {
     "name": "stdout",
     "output_type": "stream",
     "text": [
      "[0, 9, 36, 81, 144, 225, 324, 441, 576]\n",
      "[0, 9, 36, 81, 144, 225, 324, 441, 576]\n"
     ]
    }
   ],
   "source": [
    "print(list(map(lambda x: x**2, list4)))\n",
    "print([i**2 for i in list4])"
   ]
  },
  {
   "cell_type": "code",
   "execution_count": 10,
   "metadata": {},
   "outputs": [
    {
     "data": {
      "text/plain": [
       "[0, 9, 36, 81, 144, 225, 324, 441, 576]"
      ]
     },
     "execution_count": 10,
     "metadata": {},
     "output_type": "execute_result"
    }
   ],
   "source": [
    "list(map(lambda x: x**2, filter(lambda x: x%3 == 0, list3)))\n",
    "#list3은 3의 배수"
   ]
  },
  {
   "cell_type": "code",
   "execution_count": 11,
   "metadata": {},
   "outputs": [
    {
     "data": {
      "text/plain": [
       "[0, 9, 36, 81, 144, 225, 324, 441, 576]"
      ]
     },
     "execution_count": 11,
     "metadata": {},
     "output_type": "execute_result"
    }
   ],
   "source": [
    "[x**2 for x in list3 if x%3 ==0]"
   ]
  },
  {
   "cell_type": "code",
   "execution_count": 17,
   "metadata": {},
   "outputs": [
    {
     "name": "stdout",
     "output_type": "stream",
     "text": [
      "['Mini', 'Pony', 'Excel', 'Sonata', 'Santafe', 'elantra', 'Grandeur']\n",
      "['Excel', 'Grandeur', 'Mini', 'Pony', 'Santafe', 'Sonata', 'elantra']\n",
      "Excel elantra\n"
     ]
    },
    {
     "data": {
      "text/plain": [
       "'elantra'"
      ]
     },
     "execution_count": 17,
     "metadata": {},
     "output_type": "execute_result"
    }
   ],
   "source": [
    "car = ['Santafe','Mini','Pony','Grandeur','Sonata','Excel','elantra']\n",
    "car.sort(key=len)\n",
    "print(car)\n",
    "print(sorted(car))\n",
    "print(min(car),max(car))\n",
    "max(car, key=lambda i: i.lower())\n",
    "min(car, key=lambda i: i.lower())"
   ]
  },
  {
   "cell_type": "code",
   "execution_count": 14,
   "metadata": {},
   "outputs": [
    {
     "name": "stdout",
     "output_type": "stream",
     "text": [
      "Ryu:7\n",
      "Son:20\n",
      "Park:15\n",
      "Kwon:7\n"
     ]
    }
   ],
   "source": [
    "#zip : handles multiple iterables concurrently\n",
    "players = ['Ryu','Son','Park','Kwon']\n",
    "goals = [7,20,15,7]\n",
    "for last_name, goal in zip(players, goals):\n",
    "    print(f'{last_name}:{goal}')"
   ]
  },
  {
   "cell_type": "markdown",
   "metadata": {},
   "source": [
    "#### 11. Two and multi dimensional lists"
   ]
  },
  {
   "cell_type": "code",
   "execution_count": 15,
   "metadata": {},
   "outputs": [
    {
     "name": "stdout",
     "output_type": "stream",
     "text": [
      "[[1, 2, 3, 4], [5, 6, 7, 8], [9, 10, 11, 12]]\n",
      "1 2 3 4 \n",
      "5 6 7 8 \n",
      "9 10 11 12 \n"
     ]
    }
   ],
   "source": [
    "a = [[1,2,3,4,],[5,6,7,8],[9,10,11,12]]\n",
    "print(a)\n",
    "for row in a:\n",
    "    for column in row:\n",
    "        print(column, end=\" \")\n",
    "    print()"
   ]
  },
  {
   "cell_type": "code",
   "execution_count": null,
   "metadata": {},
   "outputs": [],
   "source": []
  }
 ],
 "metadata": {
  "kernelspec": {
   "display_name": "Python 3",
   "language": "python",
   "name": "python3"
  },
  "language_info": {
   "codemirror_mode": {
    "name": "ipython",
    "version": 3
   },
   "file_extension": ".py",
   "mimetype": "text/x-python",
   "name": "python",
   "nbconvert_exporter": "python",
   "pygments_lexer": "ipython3",
   "version": "3.6.5"
  }
 },
 "nbformat": 4,
 "nbformat_minor": 5
}
